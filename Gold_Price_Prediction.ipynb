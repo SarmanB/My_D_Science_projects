{
 "cells": [
  {
   "cell_type": "markdown",
   "id": "994d8ab3",
   "metadata": {},
   "source": [
    "# Gold Price Prediction"
   ]
  },
  {
   "cell_type": "code",
   "execution_count": 2,
   "id": "57d49a91",
   "metadata": {},
   "outputs": [],
   "source": [
    "import pandas as pd\n",
    "import numpy as np \n",
    "import matplotlib.pyplot as plt\n",
    "import seaborn as sns \n",
    "from sklearn.model_selection import train_test_split\n",
    "from sklearn.ensemble import RandomForestRegressor\n",
    "from sklearn import metrics"
   ]
  },
  {
   "cell_type": "markdown",
   "id": "777816ad",
   "metadata": {},
   "source": [
    "### Data Collection and Processing "
   ]
  },
  {
   "cell_type": "code",
   "execution_count": 3,
   "id": "cb14025d",
   "metadata": {},
   "outputs": [],
   "source": [
    "#loading the csv data to pandas dataframe\n",
    "gold_data = pd.read_csv('gld_price_data.csv')"
   ]
  },
  {
   "cell_type": "code",
   "execution_count": 4,
   "id": "294c1004",
   "metadata": {},
   "outputs": [
    {
     "data": {
      "text/html": [
       "<div>\n",
       "<style scoped>\n",
       "    .dataframe tbody tr th:only-of-type {\n",
       "        vertical-align: middle;\n",
       "    }\n",
       "\n",
       "    .dataframe tbody tr th {\n",
       "        vertical-align: top;\n",
       "    }\n",
       "\n",
       "    .dataframe thead th {\n",
       "        text-align: right;\n",
       "    }\n",
       "</style>\n",
       "<table border=\"1\" class=\"dataframe\">\n",
       "  <thead>\n",
       "    <tr style=\"text-align: right;\">\n",
       "      <th></th>\n",
       "      <th>Date</th>\n",
       "      <th>SPX</th>\n",
       "      <th>GLD</th>\n",
       "      <th>USO</th>\n",
       "      <th>SLV</th>\n",
       "      <th>EUR/USD</th>\n",
       "    </tr>\n",
       "  </thead>\n",
       "  <tbody>\n",
       "    <tr>\n",
       "      <th>0</th>\n",
       "      <td>1/2/2008</td>\n",
       "      <td>1447.160034</td>\n",
       "      <td>84.860001</td>\n",
       "      <td>78.470001</td>\n",
       "      <td>15.180</td>\n",
       "      <td>1.471692</td>\n",
       "    </tr>\n",
       "    <tr>\n",
       "      <th>1</th>\n",
       "      <td>1/3/2008</td>\n",
       "      <td>1447.160034</td>\n",
       "      <td>85.570000</td>\n",
       "      <td>78.370003</td>\n",
       "      <td>15.285</td>\n",
       "      <td>1.474491</td>\n",
       "    </tr>\n",
       "    <tr>\n",
       "      <th>2</th>\n",
       "      <td>1/4/2008</td>\n",
       "      <td>1411.630005</td>\n",
       "      <td>85.129997</td>\n",
       "      <td>77.309998</td>\n",
       "      <td>15.167</td>\n",
       "      <td>1.475492</td>\n",
       "    </tr>\n",
       "    <tr>\n",
       "      <th>3</th>\n",
       "      <td>1/7/2008</td>\n",
       "      <td>1416.180054</td>\n",
       "      <td>84.769997</td>\n",
       "      <td>75.500000</td>\n",
       "      <td>15.053</td>\n",
       "      <td>1.468299</td>\n",
       "    </tr>\n",
       "    <tr>\n",
       "      <th>4</th>\n",
       "      <td>1/8/2008</td>\n",
       "      <td>1390.189941</td>\n",
       "      <td>86.779999</td>\n",
       "      <td>76.059998</td>\n",
       "      <td>15.590</td>\n",
       "      <td>1.557099</td>\n",
       "    </tr>\n",
       "  </tbody>\n",
       "</table>\n",
       "</div>"
      ],
      "text/plain": [
       "       Date          SPX        GLD        USO     SLV   EUR/USD\n",
       "0  1/2/2008  1447.160034  84.860001  78.470001  15.180  1.471692\n",
       "1  1/3/2008  1447.160034  85.570000  78.370003  15.285  1.474491\n",
       "2  1/4/2008  1411.630005  85.129997  77.309998  15.167  1.475492\n",
       "3  1/7/2008  1416.180054  84.769997  75.500000  15.053  1.468299\n",
       "4  1/8/2008  1390.189941  86.779999  76.059998  15.590  1.557099"
      ]
     },
     "execution_count": 4,
     "metadata": {},
     "output_type": "execute_result"
    }
   ],
   "source": [
    "# Printing first 5 rows of the data\n",
    "gold_data.head()"
   ]
  },
  {
   "cell_type": "code",
   "execution_count": 5,
   "id": "b216ad8d",
   "metadata": {},
   "outputs": [
    {
     "data": {
      "text/html": [
       "<div>\n",
       "<style scoped>\n",
       "    .dataframe tbody tr th:only-of-type {\n",
       "        vertical-align: middle;\n",
       "    }\n",
       "\n",
       "    .dataframe tbody tr th {\n",
       "        vertical-align: top;\n",
       "    }\n",
       "\n",
       "    .dataframe thead th {\n",
       "        text-align: right;\n",
       "    }\n",
       "</style>\n",
       "<table border=\"1\" class=\"dataframe\">\n",
       "  <thead>\n",
       "    <tr style=\"text-align: right;\">\n",
       "      <th></th>\n",
       "      <th>Date</th>\n",
       "      <th>SPX</th>\n",
       "      <th>GLD</th>\n",
       "      <th>USO</th>\n",
       "      <th>SLV</th>\n",
       "      <th>EUR/USD</th>\n",
       "    </tr>\n",
       "  </thead>\n",
       "  <tbody>\n",
       "    <tr>\n",
       "      <th>2285</th>\n",
       "      <td>5/8/2018</td>\n",
       "      <td>2671.919922</td>\n",
       "      <td>124.589996</td>\n",
       "      <td>14.0600</td>\n",
       "      <td>15.5100</td>\n",
       "      <td>1.186789</td>\n",
       "    </tr>\n",
       "    <tr>\n",
       "      <th>2286</th>\n",
       "      <td>5/9/2018</td>\n",
       "      <td>2697.790039</td>\n",
       "      <td>124.330002</td>\n",
       "      <td>14.3700</td>\n",
       "      <td>15.5300</td>\n",
       "      <td>1.184722</td>\n",
       "    </tr>\n",
       "    <tr>\n",
       "      <th>2287</th>\n",
       "      <td>5/10/2018</td>\n",
       "      <td>2723.070068</td>\n",
       "      <td>125.180000</td>\n",
       "      <td>14.4100</td>\n",
       "      <td>15.7400</td>\n",
       "      <td>1.191753</td>\n",
       "    </tr>\n",
       "    <tr>\n",
       "      <th>2288</th>\n",
       "      <td>5/14/2018</td>\n",
       "      <td>2730.129883</td>\n",
       "      <td>124.489998</td>\n",
       "      <td>14.3800</td>\n",
       "      <td>15.5600</td>\n",
       "      <td>1.193118</td>\n",
       "    </tr>\n",
       "    <tr>\n",
       "      <th>2289</th>\n",
       "      <td>5/16/2018</td>\n",
       "      <td>2725.780029</td>\n",
       "      <td>122.543800</td>\n",
       "      <td>14.4058</td>\n",
       "      <td>15.4542</td>\n",
       "      <td>1.182033</td>\n",
       "    </tr>\n",
       "  </tbody>\n",
       "</table>\n",
       "</div>"
      ],
      "text/plain": [
       "           Date          SPX         GLD      USO      SLV   EUR/USD\n",
       "2285   5/8/2018  2671.919922  124.589996  14.0600  15.5100  1.186789\n",
       "2286   5/9/2018  2697.790039  124.330002  14.3700  15.5300  1.184722\n",
       "2287  5/10/2018  2723.070068  125.180000  14.4100  15.7400  1.191753\n",
       "2288  5/14/2018  2730.129883  124.489998  14.3800  15.5600  1.193118\n",
       "2289  5/16/2018  2725.780029  122.543800  14.4058  15.4542  1.182033"
      ]
     },
     "execution_count": 5,
     "metadata": {},
     "output_type": "execute_result"
    }
   ],
   "source": [
    "# print the last 5 rows of the data\n",
    "gold_data.tail()"
   ]
  },
  {
   "cell_type": "code",
   "execution_count": 6,
   "id": "d693f6a9",
   "metadata": {},
   "outputs": [
    {
     "data": {
      "text/plain": [
       "(2290, 6)"
      ]
     },
     "execution_count": 6,
     "metadata": {},
     "output_type": "execute_result"
    }
   ],
   "source": [
    "# number of rows and columns\n",
    "gold_data.shape"
   ]
  },
  {
   "cell_type": "code",
   "execution_count": 7,
   "id": "0070c7c7",
   "metadata": {},
   "outputs": [
    {
     "name": "stdout",
     "output_type": "stream",
     "text": [
      "<class 'pandas.core.frame.DataFrame'>\n",
      "RangeIndex: 2290 entries, 0 to 2289\n",
      "Data columns (total 6 columns):\n",
      " #   Column   Non-Null Count  Dtype  \n",
      "---  ------   --------------  -----  \n",
      " 0   Date     2290 non-null   object \n",
      " 1   SPX      2290 non-null   float64\n",
      " 2   GLD      2290 non-null   float64\n",
      " 3   USO      2290 non-null   float64\n",
      " 4   SLV      2290 non-null   float64\n",
      " 5   EUR/USD  2290 non-null   float64\n",
      "dtypes: float64(5), object(1)\n",
      "memory usage: 107.5+ KB\n"
     ]
    }
   ],
   "source": [
    "# Getting the basic info of the data\n",
    "gold_data.info()"
   ]
  },
  {
   "cell_type": "code",
   "execution_count": 8,
   "id": "d857ca51",
   "metadata": {},
   "outputs": [
    {
     "data": {
      "text/plain": [
       "Date       0\n",
       "SPX        0\n",
       "GLD        0\n",
       "USO        0\n",
       "SLV        0\n",
       "EUR/USD    0\n",
       "dtype: int64"
      ]
     },
     "execution_count": 8,
     "metadata": {},
     "output_type": "execute_result"
    }
   ],
   "source": [
    "# Checking the number of missing values\n",
    "gold_data.isnull().sum()"
   ]
  },
  {
   "cell_type": "code",
   "execution_count": 9,
   "id": "125b648d",
   "metadata": {},
   "outputs": [
    {
     "data": {
      "text/html": [
       "<div>\n",
       "<style scoped>\n",
       "    .dataframe tbody tr th:only-of-type {\n",
       "        vertical-align: middle;\n",
       "    }\n",
       "\n",
       "    .dataframe tbody tr th {\n",
       "        vertical-align: top;\n",
       "    }\n",
       "\n",
       "    .dataframe thead th {\n",
       "        text-align: right;\n",
       "    }\n",
       "</style>\n",
       "<table border=\"1\" class=\"dataframe\">\n",
       "  <thead>\n",
       "    <tr style=\"text-align: right;\">\n",
       "      <th></th>\n",
       "      <th>SPX</th>\n",
       "      <th>GLD</th>\n",
       "      <th>USO</th>\n",
       "      <th>SLV</th>\n",
       "      <th>EUR/USD</th>\n",
       "    </tr>\n",
       "  </thead>\n",
       "  <tbody>\n",
       "    <tr>\n",
       "      <th>count</th>\n",
       "      <td>2290.000000</td>\n",
       "      <td>2290.000000</td>\n",
       "      <td>2290.000000</td>\n",
       "      <td>2290.000000</td>\n",
       "      <td>2290.000000</td>\n",
       "    </tr>\n",
       "    <tr>\n",
       "      <th>mean</th>\n",
       "      <td>1654.315776</td>\n",
       "      <td>122.732875</td>\n",
       "      <td>31.842221</td>\n",
       "      <td>20.084997</td>\n",
       "      <td>1.283653</td>\n",
       "    </tr>\n",
       "    <tr>\n",
       "      <th>std</th>\n",
       "      <td>519.111540</td>\n",
       "      <td>23.283346</td>\n",
       "      <td>19.523517</td>\n",
       "      <td>7.092566</td>\n",
       "      <td>0.131547</td>\n",
       "    </tr>\n",
       "    <tr>\n",
       "      <th>min</th>\n",
       "      <td>676.530029</td>\n",
       "      <td>70.000000</td>\n",
       "      <td>7.960000</td>\n",
       "      <td>8.850000</td>\n",
       "      <td>1.039047</td>\n",
       "    </tr>\n",
       "    <tr>\n",
       "      <th>25%</th>\n",
       "      <td>1239.874969</td>\n",
       "      <td>109.725000</td>\n",
       "      <td>14.380000</td>\n",
       "      <td>15.570000</td>\n",
       "      <td>1.171313</td>\n",
       "    </tr>\n",
       "    <tr>\n",
       "      <th>50%</th>\n",
       "      <td>1551.434998</td>\n",
       "      <td>120.580002</td>\n",
       "      <td>33.869999</td>\n",
       "      <td>17.268500</td>\n",
       "      <td>1.303297</td>\n",
       "    </tr>\n",
       "    <tr>\n",
       "      <th>75%</th>\n",
       "      <td>2073.010070</td>\n",
       "      <td>132.840004</td>\n",
       "      <td>37.827501</td>\n",
       "      <td>22.882500</td>\n",
       "      <td>1.369971</td>\n",
       "    </tr>\n",
       "    <tr>\n",
       "      <th>max</th>\n",
       "      <td>2872.870117</td>\n",
       "      <td>184.589996</td>\n",
       "      <td>117.480003</td>\n",
       "      <td>47.259998</td>\n",
       "      <td>1.598798</td>\n",
       "    </tr>\n",
       "  </tbody>\n",
       "</table>\n",
       "</div>"
      ],
      "text/plain": [
       "               SPX          GLD          USO          SLV      EUR/USD\n",
       "count  2290.000000  2290.000000  2290.000000  2290.000000  2290.000000\n",
       "mean   1654.315776   122.732875    31.842221    20.084997     1.283653\n",
       "std     519.111540    23.283346    19.523517     7.092566     0.131547\n",
       "min     676.530029    70.000000     7.960000     8.850000     1.039047\n",
       "25%    1239.874969   109.725000    14.380000    15.570000     1.171313\n",
       "50%    1551.434998   120.580002    33.869999    17.268500     1.303297\n",
       "75%    2073.010070   132.840004    37.827501    22.882500     1.369971\n",
       "max    2872.870117   184.589996   117.480003    47.259998     1.598798"
      ]
     },
     "execution_count": 9,
     "metadata": {},
     "output_type": "execute_result"
    }
   ],
   "source": [
    "# Statistical measures of the data \n",
    "gold_data.describe()"
   ]
  },
  {
   "cell_type": "markdown",
   "id": "5b255ee3",
   "metadata": {},
   "source": [
    "### find the correlation of the data \n",
    "### 1.Positive Correlation\n",
    "### 2.Negative Correlation"
   ]
  },
  {
   "cell_type": "code",
   "execution_count": 10,
   "id": "edf0843c",
   "metadata": {},
   "outputs": [],
   "source": [
    "correlation = gold_data.corr()"
   ]
  },
  {
   "cell_type": "code",
   "execution_count": 11,
   "id": "050fa80c",
   "metadata": {},
   "outputs": [
    {
     "data": {
      "text/plain": [
       "<AxesSubplot:>"
      ]
     },
     "execution_count": 11,
     "metadata": {},
     "output_type": "execute_result"
    },
    {
     "data": {
      "image/png": "[encoded data removed]",
      "text/plain": [
       "<Figure size 720x720 with 2 Axes>"
      ]
     },
     "metadata": {
      "needs_background": "light"
     },
     "output_type": "display_data"
    }
   ],
   "source": [
    "# Heatmap for correlation\n",
    "plt.figure(figsize = (10,10))\n",
    "sns.heatmap(correlation, square= True, fmt='.1f', annot=True, annot_kws= {'size':8}, cmap='Blues')    "
   ]
  },
  {
   "cell_type": "code",
   "execution_count": 26,
   "id": "9ac1f9f5",
   "metadata": {},
   "outputs": [
    {
     "name": "stdout",
     "output_type": "stream",
     "text": [
      "SPX        0.049345\n",
      "GLD        1.000000\n",
      "USO       -0.186360\n",
      "SLV        0.866632\n",
      "EUR/USD   -0.024375\n",
      "Name: GLD, dtype: float64\n"
     ]
    }
   ],
   "source": [
    "# Correlation values og GLD\n",
    "print(correlation['GLD'])"
   ]
  },
  {
   "cell_type": "code",
   "execution_count": 31,
   "id": "eb437fd2",
   "metadata": {},
   "outputs": [
    {
     "name": "stderr",
     "output_type": "stream",
     "text": [
      "C:\\Users\\MSI\\anaconda3\\lib\\site-packages\\seaborn\\distributions.py:2619: FutureWarning: `distplot` is a deprecated function and will be removed in a future version. Please adapt your code to use either `displot` (a figure-level function with similar flexibility) or `histplot` (an axes-level function for histograms).\n",
      "  warnings.warn(msg, FutureWarning)\n"
     ]
    },
    {
     "data": {
      "text/plain": [
       "<AxesSubplot:xlabel='GLD', ylabel='Density'>"
      ]
     },
     "execution_count": 31,
     "metadata": {},
     "output_type": "execute_result"
    },
    {
     "data": {
      "image/png": "[encoded data removed]",
      "text/plain": [
       "<Figure size 432x288 with 1 Axes>"
      ]
     },
     "metadata": {
      "needs_background": "light"
     },
     "output_type": "display_data"
    }
   ],
   "source": [
    "# Checkig the distribution of the GLD price \n",
    "sns.distplot(gold_data['GLD'], color= 'Blue')"
   ]
  },
  {
   "cell_type": "markdown",
   "id": "51c50f55",
   "metadata": {},
   "source": [
    "# Splitting the features and Target"
   ]
  },
  {
   "cell_type": "code",
   "execution_count": 32,
   "id": "cf6e933b",
   "metadata": {},
   "outputs": [],
   "source": [
    "X = gold_data.drop(['Date','GLD'], axis = 1)\n",
    "Y = gold_data['GLD']"
   ]
  },
  {
   "cell_type": "code",
   "execution_count": 34,
   "id": "185c1ed0",
   "metadata": {},
   "outputs": [
    {
     "name": "stdout",
     "output_type": "stream",
     "text": [
      "              SPX        USO      SLV   EUR/USD\n",
      "0     1447.160034  78.470001  15.1800  1.471692\n",
      "1     1447.160034  78.370003  15.2850  1.474491\n",
      "2     1411.630005  77.309998  15.1670  1.475492\n",
      "3     1416.180054  75.500000  15.0530  1.468299\n",
      "4     1390.189941  76.059998  15.5900  1.557099\n",
      "...           ...        ...      ...       ...\n",
      "2285  2671.919922  14.060000  15.5100  1.186789\n",
      "2286  2697.790039  14.370000  15.5300  1.184722\n",
      "2287  2723.070068  14.410000  15.7400  1.191753\n",
      "2288  2730.129883  14.380000  15.5600  1.193118\n",
      "2289  2725.780029  14.405800  15.4542  1.182033\n",
      "\n",
      "[2290 rows x 4 columns]\n",
      "0        84.860001\n",
      "1        85.570000\n",
      "2        85.129997\n",
      "3        84.769997\n",
      "4        86.779999\n",
      "           ...    \n",
      "2285    124.589996\n",
      "2286    124.330002\n",
      "2287    125.180000\n",
      "2288    124.489998\n",
      "2289    122.543800\n",
      "Name: GLD, Length: 2290, dtype: float64\n"
     ]
    }
   ],
   "source": [
    "print(X)\n",
    "print(Y)"
   ]
  },
  {
   "cell_type": "markdown",
   "id": "2106a300",
   "metadata": {},
   "source": [
    "### Splitting the data into Train and Test Data"
   ]
  },
  {
   "cell_type": "code",
   "execution_count": 35,
   "id": "343550f8",
   "metadata": {},
   "outputs": [],
   "source": [
    "X_train, X_test, Y_train, Y_test = train_test_split(X,Y, test_size = 0.2, random_state = 2)"
   ]
  },
  {
   "cell_type": "markdown",
   "id": "a7e69e0a",
   "metadata": {},
   "source": [
    "##### Model Training:\n",
    "##### Random Forest Regressor "
   ]
  },
  {
   "cell_type": "code",
   "execution_count": 36,
   "id": "d97fac6c",
   "metadata": {},
   "outputs": [],
   "source": [
    "regressor = RandomForestRegressor(n_estimators= 100)"
   ]
  },
  {
   "cell_type": "markdown",
   "id": "211ed2c2",
   "metadata": {},
   "source": [
    "##### Training the model"
   ]
  },
  {
   "cell_type": "code",
   "execution_count": 37,
   "id": "13472cd6",
   "metadata": {},
   "outputs": [
    {
     "data": {
      "text/plain": [
       "RandomForestRegressor()"
      ]
     },
     "execution_count": 37,
     "metadata": {},
     "output_type": "execute_result"
    }
   ],
   "source": [
    "regressor.fit(X_train,Y_train)"
   ]
  },
  {
   "cell_type": "markdown",
   "id": "87bcb80e",
   "metadata": {},
   "source": [
    "##### Model Evaluation"
   ]
  },
  {
   "cell_type": "code",
   "execution_count": 39,
   "id": "9dbd4121",
   "metadata": {},
   "outputs": [
    {
     "name": "stdout",
     "output_type": "stream",
     "text": [
      "[168.8177997   82.10289994 115.71730025 127.5277006  120.83090119\n",
      " 154.6583984  150.5877981  126.15440045 117.43399864 125.8974007\n",
      " 116.73370079 171.99050063 141.84469854 167.84239818 115.25170007\n",
      " 117.68470057 139.70120271 170.35800087 159.01460302 157.68549945\n",
      " 155.1214002  125.62280032 175.99889963 157.06190402 125.20950046\n",
      "  93.71499981  77.49420017 120.34330009 119.05779886 167.54069947\n",
      "  88.13470101 125.04989968  91.15800077 117.70510021 121.13999915\n",
      " 135.84110085 115.20440137 115.17340117 146.55929929 107.18120077\n",
      " 104.39230251  87.15709783 126.46480032 117.91939999 153.87689895\n",
      " 119.66860021 108.30129972 108.0100982   93.03679996 127.04569822\n",
      "  75.12960037 113.61519964 121.23489988 111.21129907 118.81569889\n",
      " 120.4645995  159.51370017 166.79680131 147.11429717  85.6334982\n",
      "  94.51880036  86.76449899  90.60289975 118.90510067 126.45120049\n",
      " 127.45679981 169.35929942 122.23599954 117.2885992   98.76620054\n",
      " 168.41290194 143.28629797 131.9228025  121.26020201 120.65479969\n",
      " 119.64460036 114.48200153 118.37090045 107.15440094 127.82680073\n",
      " 114.16979964 107.47169977 116.86400049 119.69899887  88.70110034\n",
      "  88.28989866 146.29910201 127.27750024 113.19510047 110.21899861\n",
      " 108.20569909  77.08559909 169.9689015  114.10889919 121.59609911\n",
      " 127.87110182 154.8182988   91.61299888 136.40140091 159.11580315\n",
      " 125.64450051 125.11150063 130.43310122 114.78770116 119.63970008\n",
      "  92.17260015 110.46119866 166.83749877 157.28179919 114.1377995\n",
      " 106.58960163  79.35369965 113.32960003 125.78530074 107.04589952\n",
      " 119.23820119 155.67730271 159.72389974 120.17699987 134.33410288\n",
      " 101.43669985 117.71519817 119.40310016 112.93570064 102.82809916\n",
      " 160.08409822  99.00530058 147.38309987 125.62450097 169.56159873\n",
      " 125.98789873 127.30479777 127.54650169 113.73209923 113.01400084\n",
      " 123.51119933 102.20799915  89.13650025 124.37279969 101.44479933\n",
      " 107.17829926 113.8943007  117.60600063  99.45839949 121.59990031\n",
      " 163.77959921  87.27049866 106.75569974 117.23550095 127.67100124\n",
      " 124.09180081  80.71589942 120.37510055 158.33489807  88.10199974\n",
      " 110.30199915 118.76019893 172.4180985  103.08349907 105.57490052\n",
      " 122.43810025 158.41029784  87.58129827  93.56040072 113.01350021\n",
      " 177.20459965 113.99309969 119.41459996  94.57690084 125.68850027\n",
      " 165.91970117 114.73750084 116.81300154  88.30209867 148.92860093\n",
      " 120.34889958  89.58809994 111.85090028 117.09590078 118.74110122\n",
      "  87.95879925  94.08950008 116.8253002  118.37780179 120.33480054\n",
      " 126.75819823 121.90369973 148.57310069 166.05250088 118.56139944\n",
      " 120.35850134 150.594701   118.32359927 173.14949863 105.64539927\n",
      " 105.03450064 148.891501   113.94150075 124.96910101 147.50970066\n",
      " 119.62240116 115.41470077 112.95110002 113.53520195 142.82500174\n",
      " 117.72739786 102.86670043 115.88330102 103.76780188  98.95760039\n",
      " 117.5304009   90.66919999  91.50260057 153.21219898 102.72689976\n",
      " 154.62620143 114.33540159 138.49420136  90.10879816 115.51679948\n",
      " 114.41529978 122.71720026 121.89190016 165.52380138  92.9199994\n",
      " 134.91040071 121.24109981 120.75370021 104.71900031 140.16580309\n",
      " 121.50679928 116.63790034 113.7158005  127.24799752 122.85009946\n",
      " 125.7967992  121.12820093  86.83699905 132.53280128 146.94340146\n",
      "  92.76639958 159.05439932 158.95020225 126.29639896 165.50529938\n",
      " 108.85929964 110.25500114 103.53119828  94.33010052 127.99390258\n",
      " 106.97050063 162.05159948 121.67100016 132.16520047 130.37840152\n",
      " 159.89710019  90.13219849 174.97630198 127.2740999  126.73979844\n",
      "  86.43649937 124.44809885 150.16809699  89.61350029 106.99179979\n",
      " 109.06379971  83.8966992  135.76710015 154.67370166 138.93250387\n",
      "  73.95789996 152.56220107 126.18889987 126.72979995 127.5375988\n",
      " 108.67429914 156.1690997  114.49310103 117.04640107 125.2782998\n",
      " 154.10480071 121.30820011 156.34559866  92.80730048 125.40760146\n",
      " 125.82829995  87.99520054  92.10249935 126.17099964 128.37410294\n",
      " 113.16810002 117.55089719 120.87039983 127.41219777 119.46000085\n",
      " 136.45840028  93.86159925 119.7749003  113.16600123  94.13249925\n",
      " 108.91459986  87.5440992  108.84689934  89.66629955  92.38670044\n",
      " 131.69320252 162.35110084  89.17169991 119.87810087 133.4921016\n",
      " 123.81370036 128.35680171 102.07069875  89.04939857 131.70570082\n",
      " 119.58360008 108.63929975 168.08050068 115.1281005   86.64819901\n",
      " 118.75520051  90.95379955 161.77690047 116.71060058 121.6455001\n",
      " 160.16249866 119.98439937 112.7642997  108.46989852 126.85119938\n",
      "  76.32160026 103.03629986 127.77060256 121.73809915  92.6201\n",
      " 131.95100044 117.88660116 116.08529966 154.44460275 159.84230058\n",
      " 109.94219952 152.18009755 119.31240067 160.63970129 118.84600037\n",
      " 157.20779916 115.13279964 116.68650039 148.68959929 114.89430063\n",
      " 125.78269912 165.30940015 117.49489994 125.22809941 153.4850031\n",
      " 153.40600277 132.26880037 114.9117003  121.26310191 124.63280048\n",
      "  89.64180056 122.90040031 154.58320117 111.84130043 106.72799994\n",
      " 161.76000094 118.59010001 165.73070034 134.24450079 114.64469994\n",
      " 153.10929931 168.62379991 115.13330016 114.01840141 158.26039799\n",
      "  85.16779886 127.20610026 127.82960074 128.92279995 124.13250055\n",
      " 123.95170088  90.3199003  153.3147003   97.01919988 137.03199982\n",
      "  89.34279904 107.3588     114.9401005  112.94220074 124.32319901\n",
      "  91.39509899 125.31710139 162.32569854 120.07259841 165.46910078\n",
      " 126.85309814 112.34330042 127.54129951  94.77459911  91.02319923\n",
      " 102.76399909 120.77460011  82.99899936 126.36380039 160.22760463\n",
      " 117.35420074 118.30249992 120.18100003 122.37790006 120.06400132\n",
      " 121.34260014 118.12880047 107.07430012 148.29209972 126.32459889\n",
      " 115.70630105  74.39439986 127.76430052 153.86890052 122.72339999\n",
      " 125.57780081  88.77390044 103.00109867 125.07190033 120.24250029\n",
      "  73.5714006  152.175      121.2316999  104.7388999   86.25169746\n",
      " 115.01259906 172.29359787 119.68780035 159.61949755 113.29289922\n",
      " 121.47860035 118.47080108  96.06889986 118.73310001 125.69580055\n",
      " 118.49529956  95.74880088 153.50100176 122.05609975 147.54859969\n",
      " 159.27470147 113.95400053 122.50169934 149.58849798 127.07420014\n",
      " 165.73210073 136.36740115 120.0579995  166.97149837 108.35959957\n",
      " 121.85959855 139.86440131 106.72709886]\n"
     ]
    }
   ],
   "source": [
    "# Prediction On Test Data\n",
    "test_data_prediction = regressor.predict(X_test)\n",
    "print(test_data_prediction)"
   ]
  },
  {
   "cell_type": "code",
   "execution_count": 42,
   "id": "d615bb56",
   "metadata": {},
   "outputs": [
    {
     "name": "stdout",
     "output_type": "stream",
     "text": [
      "0.9897507131684105\n"
     ]
    }
   ],
   "source": [
    "# R squared error\n",
    "error_score = metrics.r2_score(Y_test, test_data_prediction)\n",
    "print(error_score)"
   ]
  },
  {
   "cell_type": "markdown",
   "id": "5703960c",
   "metadata": {},
   "source": [
    "##### Compare the actual values and Predicted Values"
   ]
  },
  {
   "cell_type": "code",
   "execution_count": 43,
   "id": "20406846",
   "metadata": {},
   "outputs": [],
   "source": [
    "Y_test = list(Y_test)"
   ]
  },
  {
   "cell_type": "code",
   "execution_count": 47,
   "id": "6687f74d",
   "metadata": {},
   "outputs": [
    {
     "data": {
      "text/plain": [
       "<function matplotlib.pyplot.show(close=None, block=None)>"
      ]
     },
     "execution_count": 47,
     "metadata": {},
     "output_type": "execute_result"
    },
    {
     "data": {
      "image/png": "[encoded data removed]",
      "text/plain": [
       "<Figure size 432x288 with 1 Axes>"
      ]
     },
     "metadata": {
      "needs_background": "light"
     },
     "output_type": "display_data"
    }
   ],
   "source": [
    "plt.plot(Y_test, color = 'Blue', label = 'Actual Value')\n",
    "plt.plot(test_data_prediction, color ='Green', label = 'Predicted Value')\n",
    "plt.title('Actual Price Vs Predicted Values')\n",
    "plt.xlabel(' Number of values')\n",
    "plt.ylabel('GLD Price')\n",
    "plt.legend()\n",
    "plt.show"
   ]
  },
  {
   "cell_type": "code",
   "execution_count": null,
   "id": "a5bd102e",
   "metadata": {},
   "outputs": [],
   "source": []
  }
 ],
 "metadata": {
  "kernelspec": {
   "display_name": "Python 3 (ipykernel)",
   "language": "python",
   "name": "python3"
  },
  "language_info": {
   "codemirror_mode": {
    "name": "ipython",
    "version": 3
   },
   "file_extension": ".py",
   "mimetype": "text/x-python",
   "name": "python",
   "nbconvert_exporter": "python",
   "pygments_lexer": "ipython3",
   "version": "3.9.12"
  }
 },
 "nbformat": 4,
 "nbformat_minor": 5
}

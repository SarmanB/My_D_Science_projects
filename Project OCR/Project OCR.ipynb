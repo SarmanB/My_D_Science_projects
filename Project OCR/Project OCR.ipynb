{
 "cells": [
  {
   "cell_type": "code",
   "execution_count": 6,
   "id": "6b19849f",
   "metadata": {},
   "outputs": [],
   "source": [
    "import cv2\n",
    "import matplotlib.pyplot as plt\n",
    "import numpy as np"
   ]
  },
  {
   "cell_type": "markdown",
   "id": "96a372a2",
   "metadata": {},
   "source": [
    "## Importing the Image"
   ]
  },
  {
   "cell_type": "code",
   "execution_count": 2,
   "id": "c8362271",
   "metadata": {},
   "outputs": [],
   "source": [
    "image_file = 'page_01.jpg'\n",
    "img = cv2.imread(image_file)"
   ]
  },
  {
   "cell_type": "code",
   "execution_count": 3,
   "id": "865f2b7c",
   "metadata": {},
   "outputs": [],
   "source": [
    "def display(im_path):\n",
    "    dpi = 80\n",
    "    im_data = plt.imread(im_path)\n",
    "\n",
    "    height, width  = im_data.shape[:2]\n",
    "    \n",
    "    # What size does the figure need to be in inches to fit the image?\n",
    "    figsize = width / float(dpi), height / float(dpi)\n",
    "\n",
    "    # Create a figure of the right size with one axes that takes up the full figure\n",
    "    fig = plt.figure(figsize=figsize)\n",
    "    ax = fig.add_axes([0, 0, 1, 1])\n",
    "\n",
    "    # Hide spines, ticks, etc.\n",
    "    ax.axis('off')\n",
    "\n",
    "    # Display the image.\n",
    "    ax.imshow(im_data, cmap='gray')\n",
    "\n",
    "    plt.show()"
   ]
  },
  {
   "cell_type": "code",
   "execution_count": 7,
   "id": "b5821dba",
   "metadata": {},
   "outputs": [],
   "source": [
    "#display(image_file)"
   ]
  },
  {
   "cell_type": "markdown",
   "id": "f34e3245",
   "metadata": {},
   "source": [
    "### Inverting Image (Turning the Image into Black)"
   ]
  },
  {
   "cell_type": "code",
   "execution_count": null,
   "id": "a83a0621",
   "metadata": {},
   "outputs": [],
   "source": []
  },
  {
   "cell_type": "code",
   "execution_count": null,
   "id": "5b473103",
   "metadata": {},
   "outputs": [],
   "source": []
  },
  {
   "cell_type": "markdown",
   "id": "03e76074",
   "metadata": {},
   "source": [
    "### Binarization"
   ]
  },
  {
   "cell_type": "code",
   "execution_count": null,
   "id": "0b352956",
   "metadata": {},
   "outputs": [],
   "source": []
  },
  {
   "cell_type": "markdown",
   "id": "9a9bf8da",
   "metadata": {},
   "source": [
    "### Noise Removal"
   ]
  },
  {
   "cell_type": "code",
   "execution_count": null,
   "id": "8051f0fc",
   "metadata": {},
   "outputs": [],
   "source": []
  },
  {
   "cell_type": "markdown",
   "id": "3fa72daf",
   "metadata": {},
   "source": [
    "### Dilation and Erosion"
   ]
  },
  {
   "cell_type": "code",
   "execution_count": null,
   "id": "a10728bd",
   "metadata": {},
   "outputs": [],
   "source": []
  },
  {
   "cell_type": "markdown",
   "id": "b1b1b08b",
   "metadata": {},
   "source": [
    "### Rotation / Deskewing"
   ]
  },
  {
   "cell_type": "code",
   "execution_count": null,
   "id": "2994e217",
   "metadata": {},
   "outputs": [],
   "source": []
  },
  {
   "cell_type": "markdown",
   "id": "d0d84cc2",
   "metadata": {},
   "source": [
    "### Removing Boarders"
   ]
  },
  {
   "cell_type": "code",
   "execution_count": null,
   "id": "3c9c4214",
   "metadata": {},
   "outputs": [],
   "source": []
  },
  {
   "cell_type": "markdown",
   "id": "82cefc68",
   "metadata": {},
   "source": [
    "### Missing Borders"
   ]
  },
  {
   "cell_type": "code",
   "execution_count": null,
   "id": "daee9c6b",
   "metadata": {},
   "outputs": [],
   "source": []
  },
  {
   "cell_type": "markdown",
   "id": "a1c2001b",
   "metadata": {},
   "source": [
    "### Transparency / Alpha Channel"
   ]
  },
  {
   "cell_type": "code",
   "execution_count": null,
   "id": "840bb796",
   "metadata": {},
   "outputs": [],
   "source": []
  }
 ],
 "metadata": {
  "kernelspec": {
   "display_name": "Python 3 (ipykernel)",
   "language": "python",
   "name": "python3"
  },
  "language_info": {
   "codemirror_mode": {
    "name": "ipython",
    "version": 3
   },
   "file_extension": ".py",
   "mimetype": "text/x-python",
   "name": "python",
   "nbconvert_exporter": "python",
   "pygments_lexer": "ipython3",
   "version": "3.11.5"
  }
 },
 "nbformat": 4,
 "nbformat_minor": 5
}
